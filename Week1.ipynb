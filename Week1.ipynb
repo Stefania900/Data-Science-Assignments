{
 "cells": [
  {
   "cell_type": "code",
   "execution_count": 33,
   "id": "6d8c232d-594b-43ec-8052-66f142e9e7b9",
   "metadata": {},
   "outputs": [],
   "source": [
    "#Question 1\n",
    "def count_vowels(word):\n",
    "    vowels = \"aeiouAEIOU\"\n",
    "    count = 0\n",
    "    for character in word:\n",
    "        if character in vowels:\n",
    "            count += 1\n",
    "    return count"
   ]
  },
  {
   "cell_type": "code",
   "execution_count": 34,
   "id": "7d16a8a2-19d5-493a-ad4a-11afb1f04628",
   "metadata": {},
   "outputs": [
    {
     "data": {
      "text/plain": [
       "4"
      ]
     },
     "execution_count": 34,
     "metadata": {},
     "output_type": "execute_result"
    }
   ],
   "source": [
    "word = 'how many vowels'\n",
    "count_vowels(word)"
   ]
  },
  {
   "cell_type": "code",
   "execution_count": 35,
   "id": "f203c1ce-0aac-4c96-8d48-0feeb6ec4064",
   "metadata": {},
   "outputs": [
    {
     "name": "stdout",
     "output_type": "stream",
     "text": [
      "TIGER\n",
      "ELEPHANT\n",
      "MONKEY\n",
      "ZEBRA\n",
      "PANTHER\n"
     ]
    }
   ],
   "source": [
    "#Question 2\n",
    "animals=['tiger', 'elephant', 'monkey', 'zebra', 'panther']\n",
    "for animal in animals:\n",
    "    print(animal.upper())"
   ]
  },
  {
   "cell_type": "code",
   "execution_count": 36,
   "id": "8f931844-1fcc-4ecd-a596-511c816189cd",
   "metadata": {},
   "outputs": [
    {
     "name": "stdout",
     "output_type": "stream",
     "text": [
      "1 is even\n",
      "2 is odd\n",
      "3 is even\n",
      "4 is odd\n",
      "5 is even\n",
      "6 is odd\n",
      "7 is even\n",
      "8 is odd\n",
      "9 is even\n",
      "10 is odd\n",
      "11 is even\n",
      "12 is odd\n",
      "13 is even\n",
      "14 is odd\n",
      "15 is even\n",
      "16 is odd\n",
      "17 is even\n",
      "18 is odd\n",
      "19 is even\n",
      "20 is odd\n"
     ]
    }
   ],
   "source": [
    "#Question 3\n",
    "for num in range(1,21):\n",
    "    if num%2 == 1:\n",
    "        print(num,'is even')\n",
    "    else :\n",
    "        print(num,'is odd')"
   ]
  },
  {
   "cell_type": "code",
   "execution_count": 37,
   "id": "49bf6914-08d5-4dbe-b851-524a4b973ad5",
   "metadata": {},
   "outputs": [],
   "source": [
    "#Question 4\n",
    "def sum_of_integers(a, b):\n",
    "    return a+b"
   ]
  },
  {
   "cell_type": "code",
   "execution_count": 38,
   "id": "c03e20ce-7e10-4687-94f0-9b7a8d83d419",
   "metadata": {},
   "outputs": [
    {
     "data": {
      "text/plain": [
       "13"
      ]
     },
     "execution_count": 38,
     "metadata": {},
     "output_type": "execute_result"
    }
   ],
   "source": [
    "sum_of_integers(5,8)"
   ]
  }
 ],
 "metadata": {
  "kernelspec": {
   "display_name": "Python 3 (ipykernel)",
   "language": "python",
   "name": "python3"
  },
  "language_info": {
   "codemirror_mode": {
    "name": "ipython",
    "version": 3
   },
   "file_extension": ".py",
   "mimetype": "text/x-python",
   "name": "python",
   "nbconvert_exporter": "python",
   "pygments_lexer": "ipython3",
   "version": "3.11.7"
  }
 },
 "nbformat": 4,
 "nbformat_minor": 5
}
